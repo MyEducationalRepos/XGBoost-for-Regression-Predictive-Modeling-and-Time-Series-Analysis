{
 "cells": [
  {
   "cell_type": "markdown",
   "id": "f00e3a81",
   "metadata": {},
   "source": [
    "### Chapter 7\n",
    "### XGBoost exploratory data analysis and feature engineering with Housing Price Dataset\n",
    "This notebook is a companion to the book XGBoost for Regression Predictive Modeling and Time Series Analysis. This chapter is a hands on guide for feature enineering designed to give you hands-on experience with exploratory data anslysis and different feature engineering techniques"
   ]
  },
  {
   "cell_type": "code",
   "execution_count": null,
   "id": "a8da569d",
   "metadata": {},
   "outputs": [],
   "source": []
  }
 ],
 "metadata": {
  "kernelspec": {
   "display_name": "Python 3 (ipykernel)",
   "language": "python",
   "name": "python3"
  },
  "language_info": {
   "codemirror_mode": {
    "name": "ipython",
    "version": 3
   },
   "file_extension": ".py",
   "mimetype": "text/x-python",
   "name": "python",
   "nbconvert_exporter": "python",
   "pygments_lexer": "ipython3",
   "version": "3.7.0"
  }
 },
 "nbformat": 4,
 "nbformat_minor": 5
}
