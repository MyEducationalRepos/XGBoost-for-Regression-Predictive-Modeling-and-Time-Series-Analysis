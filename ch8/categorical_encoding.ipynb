{
 "cells": [
  {
   "cell_type": "markdown",
   "metadata": {},
   "source": [
    "### Chapter 8\n",
    "### Categorical Encoding with the Housing Price & Titanic Dataset\n",
    "This notebook is a companion to the book XGBoost for Regression Predictive Modeling and Time Series Analysis. This chapter is a hands on guide for various categorical encoding techniques designed to give you hands-on experience with various categorical encoding techniques\n",
    "\n",
    "### Citing some the sources \n",
    "\n",
    "- [kaggle Houysing price prediction](https://www.kaggle.com/competitions/house-prices-advanced-regression-techniques/) - Kaggle kernel\n",
    "- [Titanic dataset](https://www.openml.org/search?type=data&status=active&id=40945&sort=runs) - OpenML Datasets\n",
    "\n",
    "Citation for the housing price dataset: `Dean De Cock(2011) Ames, Iowa: Alternative to the Boston Housing Data as an End of Semester Regression Project, Journal of Statistics Education, 19:3, DOI: 10.1080/10691898.2011.11889627.`\n",
    "\n",
    "### In this notebook we walk through the following encoding techniques for categorical data:\n",
    "\n",
    "- One Hot Encoding\n",
    "- One Hot encoding with Frequent Categories\n",
    "- Count or Frequency Encoding\n",
    "- Ordered Integer Encoding\n",
    "- Mean Encoding\n",
    "- Probability Ration Encoding\n",
    "- Weight of Evidence Encoding\n",
    "- Engineering Rare Categories"
   ]
  },
  {
   "cell_type": "code",
   "execution_count": null,
   "metadata": {},
   "outputs": [],
   "source": []
  }
 ],
 "metadata": {
  "kernelspec": {
   "display_name": "Python 3",
   "language": "python",
   "name": "python3"
  },
  "language_info": {
   "codemirror_mode": {
    "name": "ipython",
    "version": 3
   },
   "file_extension": ".py",
   "mimetype": "text/x-python",
   "name": "python",
   "nbconvert_exporter": "python",
   "pygments_lexer": "ipython3",
   "version": "3.7.4"
  }
 },
 "nbformat": 4,
 "nbformat_minor": 4
}
